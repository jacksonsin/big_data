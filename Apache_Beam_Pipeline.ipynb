{
  "nbformat": 4,
  "nbformat_minor": 0,
  "metadata": {
    "colab": {
      "name": "Apache Beam Pipeline.ipynb",
      "provenance": [],
      "authorship_tag": "ABX9TyNwKxf+hJqGVA0X42AKncYa",
      "include_colab_link": true
    },
    "kernelspec": {
      "name": "python3",
      "display_name": "Python 3"
    },
    "language_info": {
      "name": "python"
    }
  },
  "cells": [
    {
      "cell_type": "markdown",
      "metadata": {
        "id": "view-in-github",
        "colab_type": "text"
      },
      "source": [
        "<a href=\"https://colab.research.google.com/github/jacksonsin/big_data/blob/main/Apache_Beam_Pipeline.ipynb\" target=\"_parent\"><img src=\"https://colab.research.google.com/assets/colab-badge.svg\" alt=\"Open In Colab\"/></a>"
      ]
    },
    {
      "cell_type": "code",
      "source": [
        "#!pip install apache-beam"
      ],
      "metadata": {
        "id": "Vf3hTMP26D08"
      },
      "execution_count": 1,
      "outputs": []
    },
    {
      "cell_type": "code",
      "source": [
        "from apache_beam.io.textio import WriteToText\n",
        "import apache_beam as beam\n",
        "\n",
        "FileInput = '/content/sample.txt'\n",
        "FileOutput = '/content/output.txt'\n",
        "\n",
        "with beam.Pipeline() as pipeline:\n",
        "  (\n",
        "      pipeline | 'import' >>  beam.io.ReadFromText(FileInput)\n",
        "               | 'WordLength' >> beam.FlatMap(lambda word: [len(word)])\n",
        "               | 'export' >> beam.io.WriteToText(FileOutput)\n",
        "  )"
      ],
      "metadata": {
        "id": "6V_jYG-hnhF8"
      },
      "execution_count": 7,
      "outputs": []
    }
  ]
}