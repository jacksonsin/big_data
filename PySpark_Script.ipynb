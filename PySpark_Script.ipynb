{
  "nbformat": 4,
  "nbformat_minor": 0,
  "metadata": {
    "colab": {
      "name": "PySpark Script.ipynb",
      "provenance": [],
      "authorship_tag": "ABX9TyNMiiTlinjwOqY98yxOAdwF",
      "include_colab_link": true
    },
    "language_info": {
      "name": "python"
    },
    "kernelspec": {
      "name": "python3",
      "display_name": "Python 3"
    },
    "gpuClass": "standard"
  },
  "cells": [
    {
      "cell_type": "markdown",
      "metadata": {
        "id": "view-in-github",
        "colab_type": "text"
      },
      "source": [
        "<a href=\"https://colab.research.google.com/github/jacksonsin/big_data_with_python/blob/main/PySpark_Script.ipynb\" target=\"_parent\"><img src=\"https://colab.research.google.com/assets/colab-badge.svg\" alt=\"Open In Colab\"/></a>"
      ]
    },
    {
      "cell_type": "code",
      "execution_count": 1,
      "metadata": {
        "colab": {
          "base_uri": "https://localhost:8080/"
        },
        "id": "tMrFVnGXFnd1",
        "outputId": "7128b4c3-e195-4347-9181-e59defc807fe"
      },
      "outputs": [
        {
          "output_type": "stream",
          "name": "stdout",
          "text": [
            "Looking in indexes: https://pypi.org/simple, https://us-python.pkg.dev/colab-wheels/public/simple/\n",
            "Requirement already satisfied: pyspark in /usr/local/lib/python3.7/dist-packages (3.3.0)\n",
            "Requirement already satisfied: py4j==0.10.9.5 in /usr/local/lib/python3.7/dist-packages (from pyspark) (0.10.9.5)\n"
          ]
        }
      ],
      "source": [
        "!pip install pyspark"
      ]
    },
    {
      "cell_type": "code",
      "source": [
        "from pyspark import SparkContext\n",
        "logFile = \"/content/sample_data/README.md\"  \n",
        "sc = SparkContext(\"local\", \"first app\")\n",
        "logData = sc.textFile(logFile).cache()\n",
        "numAs = logData.filter(lambda s: 'a' in s).count()\n",
        "numBs = logData.filter(lambda s: 'b' in s).count()\n",
        "print(\"Lines with a: {}, lines with b: {}\".format(numAs, numBs))"
      ],
      "metadata": {
        "colab": {
          "base_uri": "https://localhost:8080/"
        },
        "id": "f4ymDt0YIc8b",
        "outputId": "2676c141-b7ad-4b70-cd23-7ec9f16ad450"
      },
      "execution_count": 2,
      "outputs": [
        {
          "output_type": "stream",
          "name": "stdout",
          "text": [
            "Lines with a: 14, lines with b: 9\n"
          ]
        }
      ]
    }
  ]
}